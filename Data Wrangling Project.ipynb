{
 "cells": [
  {
   "cell_type": "markdown",
   "id": "501688c5",
   "metadata": {},
   "source": [
    "## Title: Problem for Covid - 19 Data Analysis Project using Python"
   ]
  },
  {
   "cell_type": "code",
   "execution_count": 1,
   "id": "c9d9f9d4",
   "metadata": {},
   "outputs": [],
   "source": [
    "import pandas as pd\n",
    "import numpy as np"
   ]
  },
  {
   "cell_type": "markdown",
   "id": "fb313fcd",
   "metadata": {},
   "source": [
    "### 1. Import the dataset using Pandas from above mentioned url."
   ]
  },
  {
   "cell_type": "code",
   "execution_count": 2,
   "id": "1375003d",
   "metadata": {},
   "outputs": [],
   "source": [
    "Url = \"https://raw.githubusercontent.com/SR1608/Datasets/main/covid-data.csv\""
   ]
  },
  {
   "cell_type": "code",
   "execution_count": 3,
   "id": "59f47743",
   "metadata": {},
   "outputs": [
    {
     "data": {
      "text/html": [
       "<div>\n",
       "<style scoped>\n",
       "    .dataframe tbody tr th:only-of-type {\n",
       "        vertical-align: middle;\n",
       "    }\n",
       "\n",
       "    .dataframe tbody tr th {\n",
       "        vertical-align: top;\n",
       "    }\n",
       "\n",
       "    .dataframe thead th {\n",
       "        text-align: right;\n",
       "    }\n",
       "</style>\n",
       "<table border=\"1\" class=\"dataframe\">\n",
       "  <thead>\n",
       "    <tr style=\"text-align: right;\">\n",
       "      <th></th>\n",
       "      <th>iso_code</th>\n",
       "      <th>continent</th>\n",
       "      <th>location</th>\n",
       "      <th>date</th>\n",
       "      <th>total_cases</th>\n",
       "      <th>new_cases</th>\n",
       "      <th>new_cases_smoothed</th>\n",
       "      <th>total_deaths</th>\n",
       "      <th>new_deaths</th>\n",
       "      <th>new_deaths_smoothed</th>\n",
       "      <th>...</th>\n",
       "      <th>gdp_per_capita</th>\n",
       "      <th>extreme_poverty</th>\n",
       "      <th>cardiovasc_death_rate</th>\n",
       "      <th>diabetes_prevalence</th>\n",
       "      <th>female_smokers</th>\n",
       "      <th>male_smokers</th>\n",
       "      <th>handwashing_facilities</th>\n",
       "      <th>hospital_beds_per_thousand</th>\n",
       "      <th>life_expectancy</th>\n",
       "      <th>human_development_index</th>\n",
       "    </tr>\n",
       "  </thead>\n",
       "  <tbody>\n",
       "    <tr>\n",
       "      <th>0</th>\n",
       "      <td>AFG</td>\n",
       "      <td>Asia</td>\n",
       "      <td>Afghanistan</td>\n",
       "      <td>31/12/19</td>\n",
       "      <td>NaN</td>\n",
       "      <td>0.0</td>\n",
       "      <td>NaN</td>\n",
       "      <td>NaN</td>\n",
       "      <td>0.0</td>\n",
       "      <td>NaN</td>\n",
       "      <td>...</td>\n",
       "      <td>1803.987</td>\n",
       "      <td>NaN</td>\n",
       "      <td>597.029</td>\n",
       "      <td>9.59</td>\n",
       "      <td>NaN</td>\n",
       "      <td>NaN</td>\n",
       "      <td>37.746</td>\n",
       "      <td>0.5</td>\n",
       "      <td>64.83</td>\n",
       "      <td>0.498</td>\n",
       "    </tr>\n",
       "    <tr>\n",
       "      <th>1</th>\n",
       "      <td>AFG</td>\n",
       "      <td>Asia</td>\n",
       "      <td>Afghanistan</td>\n",
       "      <td>01/01/20</td>\n",
       "      <td>NaN</td>\n",
       "      <td>0.0</td>\n",
       "      <td>NaN</td>\n",
       "      <td>NaN</td>\n",
       "      <td>0.0</td>\n",
       "      <td>NaN</td>\n",
       "      <td>...</td>\n",
       "      <td>1803.987</td>\n",
       "      <td>NaN</td>\n",
       "      <td>597.029</td>\n",
       "      <td>9.59</td>\n",
       "      <td>NaN</td>\n",
       "      <td>NaN</td>\n",
       "      <td>37.746</td>\n",
       "      <td>0.5</td>\n",
       "      <td>64.83</td>\n",
       "      <td>0.498</td>\n",
       "    </tr>\n",
       "    <tr>\n",
       "      <th>2</th>\n",
       "      <td>AFG</td>\n",
       "      <td>Asia</td>\n",
       "      <td>Afghanistan</td>\n",
       "      <td>02/01/20</td>\n",
       "      <td>NaN</td>\n",
       "      <td>0.0</td>\n",
       "      <td>NaN</td>\n",
       "      <td>NaN</td>\n",
       "      <td>0.0</td>\n",
       "      <td>NaN</td>\n",
       "      <td>...</td>\n",
       "      <td>1803.987</td>\n",
       "      <td>NaN</td>\n",
       "      <td>597.029</td>\n",
       "      <td>9.59</td>\n",
       "      <td>NaN</td>\n",
       "      <td>NaN</td>\n",
       "      <td>37.746</td>\n",
       "      <td>0.5</td>\n",
       "      <td>64.83</td>\n",
       "      <td>0.498</td>\n",
       "    </tr>\n",
       "    <tr>\n",
       "      <th>3</th>\n",
       "      <td>AFG</td>\n",
       "      <td>Asia</td>\n",
       "      <td>Afghanistan</td>\n",
       "      <td>03/01/20</td>\n",
       "      <td>NaN</td>\n",
       "      <td>0.0</td>\n",
       "      <td>NaN</td>\n",
       "      <td>NaN</td>\n",
       "      <td>0.0</td>\n",
       "      <td>NaN</td>\n",
       "      <td>...</td>\n",
       "      <td>1803.987</td>\n",
       "      <td>NaN</td>\n",
       "      <td>597.029</td>\n",
       "      <td>9.59</td>\n",
       "      <td>NaN</td>\n",
       "      <td>NaN</td>\n",
       "      <td>37.746</td>\n",
       "      <td>0.5</td>\n",
       "      <td>64.83</td>\n",
       "      <td>0.498</td>\n",
       "    </tr>\n",
       "    <tr>\n",
       "      <th>4</th>\n",
       "      <td>AFG</td>\n",
       "      <td>Asia</td>\n",
       "      <td>Afghanistan</td>\n",
       "      <td>04/01/20</td>\n",
       "      <td>NaN</td>\n",
       "      <td>0.0</td>\n",
       "      <td>NaN</td>\n",
       "      <td>NaN</td>\n",
       "      <td>0.0</td>\n",
       "      <td>NaN</td>\n",
       "      <td>...</td>\n",
       "      <td>1803.987</td>\n",
       "      <td>NaN</td>\n",
       "      <td>597.029</td>\n",
       "      <td>9.59</td>\n",
       "      <td>NaN</td>\n",
       "      <td>NaN</td>\n",
       "      <td>37.746</td>\n",
       "      <td>0.5</td>\n",
       "      <td>64.83</td>\n",
       "      <td>0.498</td>\n",
       "    </tr>\n",
       "    <tr>\n",
       "      <th>...</th>\n",
       "      <td>...</td>\n",
       "      <td>...</td>\n",
       "      <td>...</td>\n",
       "      <td>...</td>\n",
       "      <td>...</td>\n",
       "      <td>...</td>\n",
       "      <td>...</td>\n",
       "      <td>...</td>\n",
       "      <td>...</td>\n",
       "      <td>...</td>\n",
       "      <td>...</td>\n",
       "      <td>...</td>\n",
       "      <td>...</td>\n",
       "      <td>...</td>\n",
       "      <td>...</td>\n",
       "      <td>...</td>\n",
       "      <td>...</td>\n",
       "      <td>...</td>\n",
       "      <td>...</td>\n",
       "      <td>...</td>\n",
       "      <td>...</td>\n",
       "    </tr>\n",
       "    <tr>\n",
       "      <th>57389</th>\n",
       "      <td>NaN</td>\n",
       "      <td>NaN</td>\n",
       "      <td>International</td>\n",
       "      <td>13/11/20</td>\n",
       "      <td>696.0</td>\n",
       "      <td>NaN</td>\n",
       "      <td>NaN</td>\n",
       "      <td>7.0</td>\n",
       "      <td>NaN</td>\n",
       "      <td>NaN</td>\n",
       "      <td>...</td>\n",
       "      <td>NaN</td>\n",
       "      <td>NaN</td>\n",
       "      <td>NaN</td>\n",
       "      <td>NaN</td>\n",
       "      <td>NaN</td>\n",
       "      <td>NaN</td>\n",
       "      <td>NaN</td>\n",
       "      <td>NaN</td>\n",
       "      <td>NaN</td>\n",
       "      <td>NaN</td>\n",
       "    </tr>\n",
       "    <tr>\n",
       "      <th>57390</th>\n",
       "      <td>NaN</td>\n",
       "      <td>NaN</td>\n",
       "      <td>International</td>\n",
       "      <td>14/11/20</td>\n",
       "      <td>696.0</td>\n",
       "      <td>NaN</td>\n",
       "      <td>NaN</td>\n",
       "      <td>7.0</td>\n",
       "      <td>NaN</td>\n",
       "      <td>NaN</td>\n",
       "      <td>...</td>\n",
       "      <td>NaN</td>\n",
       "      <td>NaN</td>\n",
       "      <td>NaN</td>\n",
       "      <td>NaN</td>\n",
       "      <td>NaN</td>\n",
       "      <td>NaN</td>\n",
       "      <td>NaN</td>\n",
       "      <td>NaN</td>\n",
       "      <td>NaN</td>\n",
       "      <td>NaN</td>\n",
       "    </tr>\n",
       "    <tr>\n",
       "      <th>57391</th>\n",
       "      <td>NaN</td>\n",
       "      <td>NaN</td>\n",
       "      <td>International</td>\n",
       "      <td>15/11/20</td>\n",
       "      <td>696.0</td>\n",
       "      <td>NaN</td>\n",
       "      <td>NaN</td>\n",
       "      <td>7.0</td>\n",
       "      <td>NaN</td>\n",
       "      <td>NaN</td>\n",
       "      <td>...</td>\n",
       "      <td>NaN</td>\n",
       "      <td>NaN</td>\n",
       "      <td>NaN</td>\n",
       "      <td>NaN</td>\n",
       "      <td>NaN</td>\n",
       "      <td>NaN</td>\n",
       "      <td>NaN</td>\n",
       "      <td>NaN</td>\n",
       "      <td>NaN</td>\n",
       "      <td>NaN</td>\n",
       "    </tr>\n",
       "    <tr>\n",
       "      <th>57392</th>\n",
       "      <td>NaN</td>\n",
       "      <td>NaN</td>\n",
       "      <td>International</td>\n",
       "      <td>16/11/20</td>\n",
       "      <td>696.0</td>\n",
       "      <td>NaN</td>\n",
       "      <td>NaN</td>\n",
       "      <td>7.0</td>\n",
       "      <td>NaN</td>\n",
       "      <td>NaN</td>\n",
       "      <td>...</td>\n",
       "      <td>NaN</td>\n",
       "      <td>NaN</td>\n",
       "      <td>NaN</td>\n",
       "      <td>NaN</td>\n",
       "      <td>NaN</td>\n",
       "      <td>NaN</td>\n",
       "      <td>NaN</td>\n",
       "      <td>NaN</td>\n",
       "      <td>NaN</td>\n",
       "      <td>NaN</td>\n",
       "    </tr>\n",
       "    <tr>\n",
       "      <th>57393</th>\n",
       "      <td>NaN</td>\n",
       "      <td>NaN</td>\n",
       "      <td>International</td>\n",
       "      <td>17/11/20</td>\n",
       "      <td>696.0</td>\n",
       "      <td>NaN</td>\n",
       "      <td>NaN</td>\n",
       "      <td>7.0</td>\n",
       "      <td>NaN</td>\n",
       "      <td>NaN</td>\n",
       "      <td>...</td>\n",
       "      <td>NaN</td>\n",
       "      <td>NaN</td>\n",
       "      <td>NaN</td>\n",
       "      <td>NaN</td>\n",
       "      <td>NaN</td>\n",
       "      <td>NaN</td>\n",
       "      <td>NaN</td>\n",
       "      <td>NaN</td>\n",
       "      <td>NaN</td>\n",
       "      <td>NaN</td>\n",
       "    </tr>\n",
       "  </tbody>\n",
       "</table>\n",
       "<p>57394 rows × 49 columns</p>\n",
       "</div>"
      ],
      "text/plain": [
       "      iso_code continent       location      date  total_cases  new_cases  \\\n",
       "0          AFG      Asia    Afghanistan  31/12/19          NaN        0.0   \n",
       "1          AFG      Asia    Afghanistan  01/01/20          NaN        0.0   \n",
       "2          AFG      Asia    Afghanistan  02/01/20          NaN        0.0   \n",
       "3          AFG      Asia    Afghanistan  03/01/20          NaN        0.0   \n",
       "4          AFG      Asia    Afghanistan  04/01/20          NaN        0.0   \n",
       "...        ...       ...            ...       ...          ...        ...   \n",
       "57389      NaN       NaN  International  13/11/20        696.0        NaN   \n",
       "57390      NaN       NaN  International  14/11/20        696.0        NaN   \n",
       "57391      NaN       NaN  International  15/11/20        696.0        NaN   \n",
       "57392      NaN       NaN  International  16/11/20        696.0        NaN   \n",
       "57393      NaN       NaN  International  17/11/20        696.0        NaN   \n",
       "\n",
       "       new_cases_smoothed  total_deaths  new_deaths  new_deaths_smoothed  ...  \\\n",
       "0                     NaN           NaN         0.0                  NaN  ...   \n",
       "1                     NaN           NaN         0.0                  NaN  ...   \n",
       "2                     NaN           NaN         0.0                  NaN  ...   \n",
       "3                     NaN           NaN         0.0                  NaN  ...   \n",
       "4                     NaN           NaN         0.0                  NaN  ...   \n",
       "...                   ...           ...         ...                  ...  ...   \n",
       "57389                 NaN           7.0         NaN                  NaN  ...   \n",
       "57390                 NaN           7.0         NaN                  NaN  ...   \n",
       "57391                 NaN           7.0         NaN                  NaN  ...   \n",
       "57392                 NaN           7.0         NaN                  NaN  ...   \n",
       "57393                 NaN           7.0         NaN                  NaN  ...   \n",
       "\n",
       "       gdp_per_capita  extreme_poverty  cardiovasc_death_rate  \\\n",
       "0            1803.987              NaN                597.029   \n",
       "1            1803.987              NaN                597.029   \n",
       "2            1803.987              NaN                597.029   \n",
       "3            1803.987              NaN                597.029   \n",
       "4            1803.987              NaN                597.029   \n",
       "...               ...              ...                    ...   \n",
       "57389             NaN              NaN                    NaN   \n",
       "57390             NaN              NaN                    NaN   \n",
       "57391             NaN              NaN                    NaN   \n",
       "57392             NaN              NaN                    NaN   \n",
       "57393             NaN              NaN                    NaN   \n",
       "\n",
       "       diabetes_prevalence  female_smokers  male_smokers  \\\n",
       "0                     9.59             NaN           NaN   \n",
       "1                     9.59             NaN           NaN   \n",
       "2                     9.59             NaN           NaN   \n",
       "3                     9.59             NaN           NaN   \n",
       "4                     9.59             NaN           NaN   \n",
       "...                    ...             ...           ...   \n",
       "57389                  NaN             NaN           NaN   \n",
       "57390                  NaN             NaN           NaN   \n",
       "57391                  NaN             NaN           NaN   \n",
       "57392                  NaN             NaN           NaN   \n",
       "57393                  NaN             NaN           NaN   \n",
       "\n",
       "       handwashing_facilities  hospital_beds_per_thousand  life_expectancy  \\\n",
       "0                      37.746                         0.5            64.83   \n",
       "1                      37.746                         0.5            64.83   \n",
       "2                      37.746                         0.5            64.83   \n",
       "3                      37.746                         0.5            64.83   \n",
       "4                      37.746                         0.5            64.83   \n",
       "...                       ...                         ...              ...   \n",
       "57389                     NaN                         NaN              NaN   \n",
       "57390                     NaN                         NaN              NaN   \n",
       "57391                     NaN                         NaN              NaN   \n",
       "57392                     NaN                         NaN              NaN   \n",
       "57393                     NaN                         NaN              NaN   \n",
       "\n",
       "       human_development_index  \n",
       "0                        0.498  \n",
       "1                        0.498  \n",
       "2                        0.498  \n",
       "3                        0.498  \n",
       "4                        0.498  \n",
       "...                        ...  \n",
       "57389                      NaN  \n",
       "57390                      NaN  \n",
       "57391                      NaN  \n",
       "57392                      NaN  \n",
       "57393                      NaN  \n",
       "\n",
       "[57394 rows x 49 columns]"
      ]
     },
     "execution_count": 3,
     "metadata": {},
     "output_type": "execute_result"
    }
   ],
   "source": [
    "covid_data = pd.read_csv(Url)\n",
    "covid_data"
   ]
  },
  {
   "cell_type": "markdown",
   "id": "645eade6",
   "metadata": {},
   "source": [
    "### 2. High Level Data Understanding:\n",
    "a.Find no. of rows & columns in the dataset"
   ]
  },
  {
   "cell_type": "code",
   "execution_count": 4,
   "id": "deb6582d",
   "metadata": {},
   "outputs": [
    {
     "name": "stdout",
     "output_type": "stream",
     "text": [
      "Number of rows: 57394, Number of columns: 49\n"
     ]
    }
   ],
   "source": [
    "num_rows, num_columns = covid_data.shape\n",
    "print(f\"Number of rows: {num_rows}, Number of columns: {num_columns}\")"
   ]
  },
  {
   "cell_type": "markdown",
   "id": "14a605e2",
   "metadata": {},
   "source": [
    "### b. Data types of columns."
   ]
  },
  {
   "cell_type": "code",
   "execution_count": 5,
   "id": "b5d58615",
   "metadata": {},
   "outputs": [
    {
     "name": "stdout",
     "output_type": "stream",
     "text": [
      "Data types of columns:\n",
      "iso_code                               object\n",
      "continent                              object\n",
      "location                               object\n",
      "date                                   object\n",
      "total_cases                           float64\n",
      "new_cases                             float64\n",
      "new_cases_smoothed                    float64\n",
      "total_deaths                          float64\n",
      "new_deaths                            float64\n",
      "new_deaths_smoothed                   float64\n",
      "total_cases_per_million               float64\n",
      "new_cases_per_million                 float64\n",
      "new_cases_smoothed_per_million        float64\n",
      "total_deaths_per_million              float64\n",
      "new_deaths_per_million                float64\n",
      "new_deaths_smoothed_per_million       float64\n",
      "reproduction_rate                     float64\n",
      "icu_patients                          float64\n",
      "icu_patients_per_million              float64\n",
      "hosp_patients                         float64\n",
      "hosp_patients_per_million             float64\n",
      "weekly_icu_admissions                 float64\n",
      "weekly_icu_admissions_per_million     float64\n",
      "weekly_hosp_admissions                float64\n",
      "weekly_hosp_admissions_per_million    float64\n",
      "total_tests                           float64\n",
      "new_tests                             float64\n",
      "total_tests_per_thousand              float64\n",
      "new_tests_per_thousand                float64\n",
      "new_tests_smoothed                    float64\n",
      "new_tests_smoothed_per_thousand       float64\n",
      "tests_per_case                        float64\n",
      "positive_rate                         float64\n",
      "stringency_index                      float64\n",
      "population                            float64\n",
      "population_density                    float64\n",
      "median_age                            float64\n",
      "aged_65_older                         float64\n",
      "aged_70_older                         float64\n",
      "gdp_per_capita                        float64\n",
      "extreme_poverty                       float64\n",
      "cardiovasc_death_rate                 float64\n",
      "diabetes_prevalence                   float64\n",
      "female_smokers                        float64\n",
      "male_smokers                          float64\n",
      "handwashing_facilities                float64\n",
      "hospital_beds_per_thousand            float64\n",
      "life_expectancy                       float64\n",
      "human_development_index               float64\n",
      "dtype: object\n"
     ]
    }
   ],
   "source": [
    "data_types = covid_data.dtypes\n",
    "print(\"Data types of columns:\")\n",
    "print(data_types)"
   ]
  },
  {
   "cell_type": "markdown",
   "id": "549880d1",
   "metadata": {},
   "source": [
    "### c. Info & describe of data in dataframe."
   ]
  },
  {
   "cell_type": "code",
   "execution_count": 6,
   "id": "4438c63c",
   "metadata": {},
   "outputs": [
    {
     "name": "stdout",
     "output_type": "stream",
     "text": [
      "DataFrame Info:\n",
      "<class 'pandas.core.frame.DataFrame'>\n",
      "RangeIndex: 57394 entries, 0 to 57393\n",
      "Data columns (total 49 columns):\n",
      " #   Column                              Non-Null Count  Dtype  \n",
      "---  ------                              --------------  -----  \n",
      " 0   iso_code                            57071 non-null  object \n",
      " 1   continent                           56748 non-null  object \n",
      " 2   location                            57394 non-null  object \n",
      " 3   date                                57394 non-null  object \n",
      " 4   total_cases                         53758 non-null  float64\n",
      " 5   new_cases                           56465 non-null  float64\n",
      " 6   new_cases_smoothed                  55652 non-null  float64\n",
      " 7   total_deaths                        44368 non-null  float64\n",
      " 8   new_deaths                          56465 non-null  float64\n",
      " 9   new_deaths_smoothed                 55652 non-null  float64\n",
      " 10  total_cases_per_million             53471 non-null  float64\n",
      " 11  new_cases_per_million               56401 non-null  float64\n",
      " 12  new_cases_smoothed_per_million      55587 non-null  float64\n",
      " 13  total_deaths_per_million            44096 non-null  float64\n",
      " 14  new_deaths_per_million              56401 non-null  float64\n",
      " 15  new_deaths_smoothed_per_million     55587 non-null  float64\n",
      " 16  reproduction_rate                   37696 non-null  float64\n",
      " 17  icu_patients                        4490 non-null   float64\n",
      " 18  icu_patients_per_million            4490 non-null   float64\n",
      " 19  hosp_patients                       5005 non-null   float64\n",
      " 20  hosp_patients_per_million           5005 non-null   float64\n",
      " 21  weekly_icu_admissions               357 non-null    float64\n",
      " 22  weekly_icu_admissions_per_million   357 non-null    float64\n",
      " 23  weekly_hosp_admissions              645 non-null    float64\n",
      " 24  weekly_hosp_admissions_per_million  645 non-null    float64\n",
      " 25  total_tests                         22017 non-null  float64\n",
      " 26  new_tests                           21787 non-null  float64\n",
      " 27  total_tests_per_thousand            22017 non-null  float64\n",
      " 28  new_tests_per_thousand              21787 non-null  float64\n",
      " 29  new_tests_smoothed                  24612 non-null  float64\n",
      " 30  new_tests_smoothed_per_thousand     24612 non-null  float64\n",
      " 31  tests_per_case                      22802 non-null  float64\n",
      " 32  positive_rate                       23211 non-null  float64\n",
      " 33  stringency_index                    47847 non-null  float64\n",
      " 34  population                          57071 non-null  float64\n",
      " 35  population_density                  54371 non-null  float64\n",
      " 36  median_age                          51034 non-null  float64\n",
      " 37  aged_65_older                       50265 non-null  float64\n",
      " 38  aged_70_older                       50768 non-null  float64\n",
      " 39  gdp_per_capita                      50367 non-null  float64\n",
      " 40  extreme_poverty                     33571 non-null  float64\n",
      " 41  cardiovasc_death_rate               51013 non-null  float64\n",
      " 42  diabetes_prevalence                 52881 non-null  float64\n",
      " 43  female_smokers                      39669 non-null  float64\n",
      " 44  male_smokers                        39156 non-null  float64\n",
      " 45  handwashing_facilities              24176 non-null  float64\n",
      " 46  hospital_beds_per_thousand          45936 non-null  float64\n",
      " 47  life_expectancy                     56336 non-null  float64\n",
      " 48  human_development_index             49247 non-null  float64\n",
      "dtypes: float64(45), object(4)\n",
      "memory usage: 21.5+ MB\n",
      "None\n",
      "\n",
      "DataFrame Description:\n",
      "        total_cases      new_cases  new_cases_smoothed  total_deaths  \\\n",
      "count  5.375800e+04   56465.000000        55652.000000  4.436800e+04   \n",
      "mean   1.677974e+05    1953.576941         1920.431953  6.858639e+03   \n",
      "std    1.693038e+06   18269.650340        17777.391785  5.578081e+04   \n",
      "min    1.000000e+00   -8261.000000         -552.000000  1.000000e+00   \n",
      "25%    1.800000e+02       0.000000            0.857000  1.300000e+01   \n",
      "50%    2.070000e+03      14.000000           19.429000  8.400000e+01   \n",
      "75%    2.235675e+04     235.000000          245.286000  7.270000e+02   \n",
      "max    5.515465e+07  646281.000000       584981.857000  1.328537e+06   \n",
      "\n",
      "         new_deaths  new_deaths_smoothed  total_cases_per_million  \\\n",
      "count  56465.000000         55652.000000             53471.000000   \n",
      "mean      47.054317            46.835439              3139.099982   \n",
      "std      390.853776           378.272794              6183.455260   \n",
      "min    -1918.000000          -232.143000                 0.001000   \n",
      "25%        0.000000             0.000000                90.033000   \n",
      "50%        0.000000             0.286000               593.663000   \n",
      "75%        4.000000             4.000000              3487.050000   \n",
      "max    10600.000000          9027.714000             76541.772000   \n",
      "\n",
      "       new_cases_per_million  new_cases_smoothed_per_million  \\\n",
      "count           56401.000000                    55587.000000   \n",
      "mean               39.344804                       38.403211   \n",
      "std               133.985155                      101.649441   \n",
      "min             -2212.545000                     -269.978000   \n",
      "25%                 0.000000                        0.260000   \n",
      "50%                 2.194000                        3.863000   \n",
      "75%                25.941000                       29.678500   \n",
      "max              8652.658000                     2472.188000   \n",
      "\n",
      "       total_deaths_per_million  ...  gdp_per_capita  extreme_poverty  \\\n",
      "count              44096.000000  ...    50367.000000     33571.000000   \n",
      "mean                  95.335293  ...    20620.172071        12.435453   \n",
      "std                  180.721699  ...    20310.999832        19.427924   \n",
      "min                    0.000000  ...      661.240000         0.100000   \n",
      "25%                    3.977750  ...     5321.444000         0.500000   \n",
      "50%                   20.383000  ...    13913.839000         2.000000   \n",
      "75%                   90.571250  ...    31400.840000        18.100000   \n",
      "max                 1248.014000  ...   116935.600000        77.600000   \n",
      "\n",
      "       cardiovasc_death_rate  diabetes_prevalence  female_smokers  \\\n",
      "count           51013.000000         52881.000000    39669.000000   \n",
      "mean              252.646642             8.070269       10.741569   \n",
      "std               117.522344             4.189605       10.470743   \n",
      "min                79.370000             0.990000        0.100000   \n",
      "25%               156.139000             5.310000        1.900000   \n",
      "50%               238.339000             7.110000        6.400000   \n",
      "75%               318.991000            10.390000       19.600000   \n",
      "max               724.417000            30.530000       44.000000   \n",
      "\n",
      "       male_smokers  handwashing_facilities  hospital_beds_per_thousand  \\\n",
      "count  39156.000000            24176.000000                45936.000000   \n",
      "mean      32.642686               52.089636                    3.089724   \n",
      "std       13.453566               31.645306                    2.513193   \n",
      "min        7.700000                1.188000                    0.100000   \n",
      "25%       21.400000               21.222000                    1.300000   \n",
      "50%       31.400000               52.232000                    2.500000   \n",
      "75%       40.900000               83.741000                    4.200000   \n",
      "max       78.100000               98.999000                   13.800000   \n",
      "\n",
      "       life_expectancy  human_development_index  \n",
      "count     56336.000000             49247.000000  \n",
      "mean         73.937780                 0.722223  \n",
      "std           7.397016                 0.153261  \n",
      "min          53.280000                 0.354000  \n",
      "25%          69.870000                 0.601000  \n",
      "50%          75.345000                 0.752000  \n",
      "75%          79.380000                 0.847000  \n",
      "max          86.750000                 0.953000  \n",
      "\n",
      "[8 rows x 45 columns]\n"
     ]
    }
   ],
   "source": [
    "print(\"DataFrame Info:\")\n",
    "print(covid_data.info())\n",
    "\n",
    "print(\"\\nDataFrame Description:\")\n",
    "print(covid_data.describe())"
   ]
  },
  {
   "cell_type": "markdown",
   "id": "0b50eb50",
   "metadata": {},
   "source": [
    "### 3. Low Level Data Understanding :\n",
    " a. Find count of unique values in location column."
   ]
  },
  {
   "cell_type": "code",
   "execution_count": 7,
   "id": "5729e2f9",
   "metadata": {},
   "outputs": [
    {
     "name": "stdout",
     "output_type": "stream",
     "text": [
      "Count of unique values in 'location' column: 216\n"
     ]
    }
   ],
   "source": [
    "uni_loc_cnt = covid_data['location'].nunique()\n",
    "print(f\"Count of unique values in 'location' column: {uni_loc_cnt}\")"
   ]
  },
  {
   "cell_type": "markdown",
   "id": "99ab5eaf",
   "metadata": {},
   "source": [
    "### b. Find which continent has the maximum frequency using value counts."
   ]
  },
  {
   "cell_type": "code",
   "execution_count": 8,
   "id": "6d35fefa",
   "metadata": {},
   "outputs": [
    {
     "name": "stdout",
     "output_type": "stream",
     "text": [
      "Maximum frequency of 'continent': Europe\n"
     ]
    }
   ],
   "source": [
    "max_continent_frequency = covid_data['continent'].value_counts().idxmax()\n",
    "print(f\"Maximum frequency of 'continent': {max_continent_frequency}\")"
   ]
  },
  {
   "cell_type": "markdown",
   "id": "04d370e5",
   "metadata": {},
   "source": [
    "### c. Find maximum & mean value in 'total_cases'."
   ]
  },
  {
   "cell_type": "code",
   "execution_count": 9,
   "id": "60d45a52",
   "metadata": {},
   "outputs": [
    {
     "name": "stdout",
     "output_type": "stream",
     "text": [
      "Maximum value in Total Cases: 55154651.0\n",
      "\n",
      "Mean value in Total Cases: 167797.3688753302\n"
     ]
    }
   ],
   "source": [
    "max_total_cases = covid_data['total_cases'].max()\n",
    "mean_total_cases = covid_data['total_cases'].mean()\n",
    "\n",
    "print(f\"Maximum value in Total Cases: {max_total_cases}\")\n",
    "print(f\"\\nMean value in Total Cases: {mean_total_cases}\")"
   ]
  },
  {
   "cell_type": "markdown",
   "id": "6734be15",
   "metadata": {},
   "source": [
    "### d. Find 25%,50% & 75% quartile value in 'total_deaths'."
   ]
  },
  {
   "cell_type": "code",
   "execution_count": 10,
   "id": "81cb03c5",
   "metadata": {},
   "outputs": [
    {
     "name": "stdout",
     "output_type": "stream",
     "text": [
      "Quartiles for total_deaths:\n",
      "25%: 13.0, \n",
      "50%: 84.0, \n",
      "75%: 727.0\n",
      "\n"
     ]
    }
   ],
   "source": [
    "quartile_25 = covid_data['total_deaths'].quantile(0.25)\n",
    "quartile_50 = covid_data['total_deaths'].quantile(0.5)\n",
    "quartile_75 = covid_data['total_deaths'].quantile(0.75)\n",
    "\n",
    "print(f\"Quartiles for total_deaths:\\n25%: {quartile_25}, \\n50%: {quartile_50}, \\n75%: {quartile_75}\\n\")"
   ]
  },
  {
   "cell_type": "markdown",
   "id": "f8c4111d",
   "metadata": {},
   "source": [
    "### e. Find which continent has maximum 'human_development_index'."
   ]
  },
  {
   "cell_type": "code",
   "execution_count": 11,
   "id": "15c3c01f",
   "metadata": {},
   "outputs": [
    {
     "name": "stdout",
     "output_type": "stream",
     "text": [
      "Continent with the Maximum 'human_development_index': Europe\n"
     ]
    }
   ],
   "source": [
    "max_hdi_continent = covid_data.loc[covid_data['human_development_index'].idxmax()]['continent']\n",
    "\n",
    "print(f\"Continent with the Maximum 'human_development_index': {max_hdi_continent}\")"
   ]
  },
  {
   "cell_type": "markdown",
   "id": "3affeff2",
   "metadata": {},
   "source": [
    "### f. Find which continent has minimum 'gdp_per_capita'."
   ]
  },
  {
   "cell_type": "code",
   "execution_count": 12,
   "id": "9ea15293",
   "metadata": {},
   "outputs": [
    {
     "name": "stdout",
     "output_type": "stream",
     "text": [
      "Continent with the Minimum 'gdp_per_capita': Africa\n"
     ]
    }
   ],
   "source": [
    "min_gdp_continent = covid_data.loc[covid_data['gdp_per_capita'].idxmin()]['continent']\n",
    "\n",
    "print(f\"Continent with the Minimum 'gdp_per_capita': {min_gdp_continent}\")"
   ]
  },
  {
   "cell_type": "markdown",
   "id": "853dd836",
   "metadata": {},
   "source": [
    "### 4. Filter the dataframe with only this columns"
   ]
  },
  {
   "cell_type": "code",
   "execution_count": 13,
   "id": "e1a37788",
   "metadata": {
    "scrolled": true
   },
   "outputs": [
    {
     "data": {
      "text/html": [
       "<div>\n",
       "<style scoped>\n",
       "    .dataframe tbody tr th:only-of-type {\n",
       "        vertical-align: middle;\n",
       "    }\n",
       "\n",
       "    .dataframe tbody tr th {\n",
       "        vertical-align: top;\n",
       "    }\n",
       "\n",
       "    .dataframe thead th {\n",
       "        text-align: right;\n",
       "    }\n",
       "</style>\n",
       "<table border=\"1\" class=\"dataframe\">\n",
       "  <thead>\n",
       "    <tr style=\"text-align: right;\">\n",
       "      <th></th>\n",
       "      <th>continent</th>\n",
       "      <th>location</th>\n",
       "      <th>date</th>\n",
       "      <th>total_cases</th>\n",
       "      <th>total_deaths</th>\n",
       "      <th>gdp_per_capita</th>\n",
       "      <th>human_development_index</th>\n",
       "    </tr>\n",
       "  </thead>\n",
       "  <tbody>\n",
       "    <tr>\n",
       "      <th>0</th>\n",
       "      <td>Asia</td>\n",
       "      <td>Afghanistan</td>\n",
       "      <td>31/12/19</td>\n",
       "      <td>NaN</td>\n",
       "      <td>NaN</td>\n",
       "      <td>1803.987</td>\n",
       "      <td>0.498</td>\n",
       "    </tr>\n",
       "    <tr>\n",
       "      <th>1</th>\n",
       "      <td>Asia</td>\n",
       "      <td>Afghanistan</td>\n",
       "      <td>01/01/20</td>\n",
       "      <td>NaN</td>\n",
       "      <td>NaN</td>\n",
       "      <td>1803.987</td>\n",
       "      <td>0.498</td>\n",
       "    </tr>\n",
       "    <tr>\n",
       "      <th>2</th>\n",
       "      <td>Asia</td>\n",
       "      <td>Afghanistan</td>\n",
       "      <td>02/01/20</td>\n",
       "      <td>NaN</td>\n",
       "      <td>NaN</td>\n",
       "      <td>1803.987</td>\n",
       "      <td>0.498</td>\n",
       "    </tr>\n",
       "    <tr>\n",
       "      <th>3</th>\n",
       "      <td>Asia</td>\n",
       "      <td>Afghanistan</td>\n",
       "      <td>03/01/20</td>\n",
       "      <td>NaN</td>\n",
       "      <td>NaN</td>\n",
       "      <td>1803.987</td>\n",
       "      <td>0.498</td>\n",
       "    </tr>\n",
       "    <tr>\n",
       "      <th>4</th>\n",
       "      <td>Asia</td>\n",
       "      <td>Afghanistan</td>\n",
       "      <td>04/01/20</td>\n",
       "      <td>NaN</td>\n",
       "      <td>NaN</td>\n",
       "      <td>1803.987</td>\n",
       "      <td>0.498</td>\n",
       "    </tr>\n",
       "    <tr>\n",
       "      <th>...</th>\n",
       "      <td>...</td>\n",
       "      <td>...</td>\n",
       "      <td>...</td>\n",
       "      <td>...</td>\n",
       "      <td>...</td>\n",
       "      <td>...</td>\n",
       "      <td>...</td>\n",
       "    </tr>\n",
       "    <tr>\n",
       "      <th>57389</th>\n",
       "      <td>NaN</td>\n",
       "      <td>International</td>\n",
       "      <td>13/11/20</td>\n",
       "      <td>696.0</td>\n",
       "      <td>7.0</td>\n",
       "      <td>NaN</td>\n",
       "      <td>NaN</td>\n",
       "    </tr>\n",
       "    <tr>\n",
       "      <th>57390</th>\n",
       "      <td>NaN</td>\n",
       "      <td>International</td>\n",
       "      <td>14/11/20</td>\n",
       "      <td>696.0</td>\n",
       "      <td>7.0</td>\n",
       "      <td>NaN</td>\n",
       "      <td>NaN</td>\n",
       "    </tr>\n",
       "    <tr>\n",
       "      <th>57391</th>\n",
       "      <td>NaN</td>\n",
       "      <td>International</td>\n",
       "      <td>15/11/20</td>\n",
       "      <td>696.0</td>\n",
       "      <td>7.0</td>\n",
       "      <td>NaN</td>\n",
       "      <td>NaN</td>\n",
       "    </tr>\n",
       "    <tr>\n",
       "      <th>57392</th>\n",
       "      <td>NaN</td>\n",
       "      <td>International</td>\n",
       "      <td>16/11/20</td>\n",
       "      <td>696.0</td>\n",
       "      <td>7.0</td>\n",
       "      <td>NaN</td>\n",
       "      <td>NaN</td>\n",
       "    </tr>\n",
       "    <tr>\n",
       "      <th>57393</th>\n",
       "      <td>NaN</td>\n",
       "      <td>International</td>\n",
       "      <td>17/11/20</td>\n",
       "      <td>696.0</td>\n",
       "      <td>7.0</td>\n",
       "      <td>NaN</td>\n",
       "      <td>NaN</td>\n",
       "    </tr>\n",
       "  </tbody>\n",
       "</table>\n",
       "<p>57394 rows × 7 columns</p>\n",
       "</div>"
      ],
      "text/plain": [
       "      continent       location      date  total_cases  total_deaths  \\\n",
       "0          Asia    Afghanistan  31/12/19          NaN           NaN   \n",
       "1          Asia    Afghanistan  01/01/20          NaN           NaN   \n",
       "2          Asia    Afghanistan  02/01/20          NaN           NaN   \n",
       "3          Asia    Afghanistan  03/01/20          NaN           NaN   \n",
       "4          Asia    Afghanistan  04/01/20          NaN           NaN   \n",
       "...         ...            ...       ...          ...           ...   \n",
       "57389       NaN  International  13/11/20        696.0           7.0   \n",
       "57390       NaN  International  14/11/20        696.0           7.0   \n",
       "57391       NaN  International  15/11/20        696.0           7.0   \n",
       "57392       NaN  International  16/11/20        696.0           7.0   \n",
       "57393       NaN  International  17/11/20        696.0           7.0   \n",
       "\n",
       "       gdp_per_capita  human_development_index  \n",
       "0            1803.987                    0.498  \n",
       "1            1803.987                    0.498  \n",
       "2            1803.987                    0.498  \n",
       "3            1803.987                    0.498  \n",
       "4            1803.987                    0.498  \n",
       "...               ...                      ...  \n",
       "57389             NaN                      NaN  \n",
       "57390             NaN                      NaN  \n",
       "57391             NaN                      NaN  \n",
       "57392             NaN                      NaN  \n",
       "57393             NaN                      NaN  \n",
       "\n",
       "[57394 rows x 7 columns]"
      ]
     },
     "execution_count": 13,
     "metadata": {},
     "output_type": "execute_result"
    }
   ],
   "source": [
    "selected_columns = ['continent', 'location', 'date', 'total_cases', 'total_deaths', 'gdp_per_capita', 'human_development_index']\n",
    "covid_data_filtered = covid_data[selected_columns]\n",
    "\n",
    "covid_data_filtered"
   ]
  },
  {
   "cell_type": "markdown",
   "id": "c57ca9fb",
   "metadata": {},
   "source": [
    "### 5. Data Cleaning\n",
    " a. Remove all duplicates observations"
   ]
  },
  {
   "cell_type": "code",
   "execution_count": 14,
   "id": "73573850",
   "metadata": {},
   "outputs": [
    {
     "name": "stdout",
     "output_type": "stream",
     "text": [
      "Dataframe shape after removing duplicates: (57394, 7)\n"
     ]
    }
   ],
   "source": [
    "covid_data = covid_data_filtered.drop_duplicates()\n",
    "\n",
    "print(f\"Dataframe shape after removing duplicates: {covid_data_filtered.shape}\")"
   ]
  },
  {
   "cell_type": "markdown",
   "id": "b2f931ad",
   "metadata": {},
   "source": [
    "### b. Find missing values in all columns"
   ]
  },
  {
   "cell_type": "code",
   "execution_count": 15,
   "id": "cb4e73f7",
   "metadata": {},
   "outputs": [
    {
     "name": "stdout",
     "output_type": "stream",
     "text": [
      "Missing values in each column:\n",
      "continent                    646\n",
      "location                       0\n",
      "date                           0\n",
      "total_cases                 3636\n",
      "total_deaths               13026\n",
      "gdp_per_capita              7027\n",
      "human_development_index     8147\n",
      "dtype: int64\n"
     ]
    }
   ],
   "source": [
    "missing_values = covid_data_filtered.isnull().sum()\n",
    "print(f\"Missing values in each column:\\n{missing_values}\")"
   ]
  },
  {
   "cell_type": "markdown",
   "id": "d83b3210",
   "metadata": {},
   "source": [
    "### c. Remove all observations where continent column value is missing"
   ]
  },
  {
   "cell_type": "code",
   "execution_count": 16,
   "id": "1515f2bc",
   "metadata": {},
   "outputs": [
    {
     "name": "stdout",
     "output_type": "stream",
     "text": [
      "Dataframe shape after removing missing continent values: (56748, 7)\n"
     ]
    }
   ],
   "source": [
    "covid_data_filtered = covid_data_filtered.dropna(subset=['continent'])\n",
    "\n",
    "print(f\"Dataframe shape after removing missing continent values: {covid_data_filtered.shape}\")"
   ]
  },
  {
   "cell_type": "markdown",
   "id": "59772f8d",
   "metadata": {},
   "source": [
    "### d. Fill all missing values with 0"
   ]
  },
  {
   "cell_type": "code",
   "execution_count": 17,
   "id": "d4038b79",
   "metadata": {},
   "outputs": [
    {
     "name": "stdout",
     "output_type": "stream",
     "text": [
      "Dataframe with missing values filled with 0:\n",
      "  continent     location      date  total_cases  total_deaths  gdp_per_capita  \\\n",
      "0      Asia  Afghanistan  31/12/19          NaN           NaN        1803.987   \n",
      "1      Asia  Afghanistan  01/01/20          NaN           NaN        1803.987   \n",
      "2      Asia  Afghanistan  02/01/20          NaN           NaN        1803.987   \n",
      "3      Asia  Afghanistan  03/01/20          NaN           NaN        1803.987   \n",
      "4      Asia  Afghanistan  04/01/20          NaN           NaN        1803.987   \n",
      "\n",
      "   human_development_index  \n",
      "0                    0.498  \n",
      "1                    0.498  \n",
      "2                    0.498  \n",
      "3                    0.498  \n",
      "4                    0.498  \n"
     ]
    }
   ],
   "source": [
    "covid_data_filtered = covid_data_filtered.fillna(0)\n",
    "\n",
    "print(\"Dataframe with missing values filled with 0:\")\n",
    "print(covid_data.head())"
   ]
  },
  {
   "cell_type": "markdown",
   "id": "c12bd5de",
   "metadata": {},
   "source": [
    "### 6. Date time format :\n",
    " a. Convert date column in datetime format using \n",
    "pandas.to_datetime"
   ]
  },
  {
   "cell_type": "code",
   "execution_count": 18,
   "id": "70c662c2",
   "metadata": {},
   "outputs": [
    {
     "name": "stdout",
     "output_type": "stream",
     "text": [
      "'date' column converted to datetime format:\n",
      "0   2019-12-31\n",
      "1   2020-01-01\n",
      "2   2020-02-01\n",
      "3   2020-03-01\n",
      "4   2020-04-01\n",
      "Name: date, dtype: datetime64[ns]\n"
     ]
    }
   ],
   "source": [
    "covid_data['date'] = pd.to_datetime(covid_data['date'])\n",
    "\n",
    "print(\"'date' column converted to datetime format:\")\n",
    "print(covid_data['date'].head())"
   ]
  },
  {
   "cell_type": "markdown",
   "id": "187fcb84",
   "metadata": {},
   "source": [
    "### b. Create new column month after extracting month data from date column."
   ]
  },
  {
   "cell_type": "code",
   "execution_count": 20,
   "id": "64ee1a3a",
   "metadata": {},
   "outputs": [
    {
     "name": "stdout",
     "output_type": "stream",
     "text": [
      "Dataframe with new 'month' column:\n",
      "  continent     location       date  total_cases  total_deaths  \\\n",
      "0      Asia  Afghanistan 2019-12-31          NaN           NaN   \n",
      "1      Asia  Afghanistan 2020-01-01          NaN           NaN   \n",
      "2      Asia  Afghanistan 2020-02-01          NaN           NaN   \n",
      "3      Asia  Afghanistan 2020-03-01          NaN           NaN   \n",
      "4      Asia  Afghanistan 2020-04-01          NaN           NaN   \n",
      "\n",
      "   gdp_per_capita  human_development_index  month  \n",
      "0        1803.987                    0.498     12  \n",
      "1        1803.987                    0.498      1  \n",
      "2        1803.987                    0.498      2  \n",
      "3        1803.987                    0.498      3  \n",
      "4        1803.987                    0.498      4  \n"
     ]
    }
   ],
   "source": [
    "covid_data['month'] = covid_data['date'].dt.month\n",
    "\n",
    "print(\"Dataframe with new 'month' column:\")\n",
    "print(covid_data.head())"
   ]
  },
  {
   "cell_type": "markdown",
   "id": "5dfcf4ca",
   "metadata": {},
   "source": [
    "### 7. Data Aggregation:\n",
    " a. Find max value in all columns using groupby function on \n",
    "'continent' column\n",
    " \n",
    " Tip: use reset_index() after applying groupby"
   ]
  },
  {
   "cell_type": "code",
   "execution_count": 21,
   "id": "c788685c",
   "metadata": {},
   "outputs": [
    {
     "name": "stdout",
     "output_type": "stream",
     "text": [
      "Maximum values in all columns grouped by 'continent':\n",
      "       continent                      location       date  total_cases  \\\n",
      "0         Africa                      Zimbabwe 2020-12-11     752269.0   \n",
      "1           Asia                         Yemen 2020-12-11    8874290.0   \n",
      "2         Europe                       Vatican 2020-12-11    1991233.0   \n",
      "3  North America  United States Virgin Islands 2020-12-11   11205486.0   \n",
      "4        Oceania             Wallis and Futuna 2020-12-11      27750.0   \n",
      "5  South America                     Venezuela 2020-12-11    5876464.0   \n",
      "\n",
      "   total_deaths  gdp_per_capita  human_development_index  month  \n",
      "0       20314.0       26382.287                    0.797     12  \n",
      "1      130519.0      116935.600                    0.933     12  \n",
      "2       52147.0       94277.965                    0.953     12  \n",
      "3      247220.0       54225.446                    0.926     12  \n",
      "4         907.0       44648.710                    0.939     12  \n",
      "5      166014.0       22767.037                    0.843     12  \n"
     ]
    }
   ],
   "source": [
    "max_value = covid_data.groupby('continent').max().reset_index()\n",
    "\n",
    "print(\"Maximum values in all columns grouped by 'continent':\")\n",
    "print(max_value)"
   ]
  },
  {
   "cell_type": "markdown",
   "id": "a177d140",
   "metadata": {},
   "source": [
    "### b. Store the result in a new dataframe named 'df_groupby'. (Use df_groupby dataframe for all further analysis)"
   ]
  },
  {
   "cell_type": "code",
   "execution_count": 24,
   "id": "be904429",
   "metadata": {},
   "outputs": [],
   "source": [
    "df_groupby = max_value"
   ]
  },
  {
   "cell_type": "code",
   "execution_count": 25,
   "id": "0268b00f",
   "metadata": {},
   "outputs": [
    {
     "data": {
      "text/html": [
       "<div>\n",
       "<style scoped>\n",
       "    .dataframe tbody tr th:only-of-type {\n",
       "        vertical-align: middle;\n",
       "    }\n",
       "\n",
       "    .dataframe tbody tr th {\n",
       "        vertical-align: top;\n",
       "    }\n",
       "\n",
       "    .dataframe thead th {\n",
       "        text-align: right;\n",
       "    }\n",
       "</style>\n",
       "<table border=\"1\" class=\"dataframe\">\n",
       "  <thead>\n",
       "    <tr style=\"text-align: right;\">\n",
       "      <th></th>\n",
       "      <th>continent</th>\n",
       "      <th>location</th>\n",
       "      <th>date</th>\n",
       "      <th>total_cases</th>\n",
       "      <th>total_deaths</th>\n",
       "      <th>gdp_per_capita</th>\n",
       "      <th>human_development_index</th>\n",
       "      <th>month</th>\n",
       "    </tr>\n",
       "  </thead>\n",
       "  <tbody>\n",
       "    <tr>\n",
       "      <th>0</th>\n",
       "      <td>Africa</td>\n",
       "      <td>Zimbabwe</td>\n",
       "      <td>2020-12-11</td>\n",
       "      <td>752269.0</td>\n",
       "      <td>20314.0</td>\n",
       "      <td>26382.287</td>\n",
       "      <td>0.797</td>\n",
       "      <td>12</td>\n",
       "    </tr>\n",
       "    <tr>\n",
       "      <th>1</th>\n",
       "      <td>Asia</td>\n",
       "      <td>Yemen</td>\n",
       "      <td>2020-12-11</td>\n",
       "      <td>8874290.0</td>\n",
       "      <td>130519.0</td>\n",
       "      <td>116935.600</td>\n",
       "      <td>0.933</td>\n",
       "      <td>12</td>\n",
       "    </tr>\n",
       "    <tr>\n",
       "      <th>2</th>\n",
       "      <td>Europe</td>\n",
       "      <td>Vatican</td>\n",
       "      <td>2020-12-11</td>\n",
       "      <td>1991233.0</td>\n",
       "      <td>52147.0</td>\n",
       "      <td>94277.965</td>\n",
       "      <td>0.953</td>\n",
       "      <td>12</td>\n",
       "    </tr>\n",
       "    <tr>\n",
       "      <th>3</th>\n",
       "      <td>North America</td>\n",
       "      <td>United States Virgin Islands</td>\n",
       "      <td>2020-12-11</td>\n",
       "      <td>11205486.0</td>\n",
       "      <td>247220.0</td>\n",
       "      <td>54225.446</td>\n",
       "      <td>0.926</td>\n",
       "      <td>12</td>\n",
       "    </tr>\n",
       "    <tr>\n",
       "      <th>4</th>\n",
       "      <td>Oceania</td>\n",
       "      <td>Wallis and Futuna</td>\n",
       "      <td>2020-12-11</td>\n",
       "      <td>27750.0</td>\n",
       "      <td>907.0</td>\n",
       "      <td>44648.710</td>\n",
       "      <td>0.939</td>\n",
       "      <td>12</td>\n",
       "    </tr>\n",
       "    <tr>\n",
       "      <th>5</th>\n",
       "      <td>South America</td>\n",
       "      <td>Venezuela</td>\n",
       "      <td>2020-12-11</td>\n",
       "      <td>5876464.0</td>\n",
       "      <td>166014.0</td>\n",
       "      <td>22767.037</td>\n",
       "      <td>0.843</td>\n",
       "      <td>12</td>\n",
       "    </tr>\n",
       "  </tbody>\n",
       "</table>\n",
       "</div>"
      ],
      "text/plain": [
       "       continent                      location       date  total_cases  \\\n",
       "0         Africa                      Zimbabwe 2020-12-11     752269.0   \n",
       "1           Asia                         Yemen 2020-12-11    8874290.0   \n",
       "2         Europe                       Vatican 2020-12-11    1991233.0   \n",
       "3  North America  United States Virgin Islands 2020-12-11   11205486.0   \n",
       "4        Oceania             Wallis and Futuna 2020-12-11      27750.0   \n",
       "5  South America                     Venezuela 2020-12-11    5876464.0   \n",
       "\n",
       "   total_deaths  gdp_per_capita  human_development_index  month  \n",
       "0       20314.0       26382.287                    0.797     12  \n",
       "1      130519.0      116935.600                    0.933     12  \n",
       "2       52147.0       94277.965                    0.953     12  \n",
       "3      247220.0       54225.446                    0.926     12  \n",
       "4         907.0       44648.710                    0.939     12  \n",
       "5      166014.0       22767.037                    0.843     12  "
      ]
     },
     "execution_count": 25,
     "metadata": {},
     "output_type": "execute_result"
    }
   ],
   "source": [
    "df_groupby"
   ]
  },
  {
   "cell_type": "markdown",
   "id": "bcf053d0",
   "metadata": {},
   "source": [
    "### 8. Feature Engineering :\n",
    " a. Create a new feature 'total_deaths_to_total_cases' by ratio of\n",
    " 'total_deaths' column to 'total_cases'"
   ]
  },
  {
   "cell_type": "code",
   "execution_count": 27,
   "id": "43654848",
   "metadata": {},
   "outputs": [
    {
     "name": "stdout",
     "output_type": "stream",
     "text": [
      "DataFrame with the new feature 'total_deaths_to_total_cases':\n"
     ]
    },
    {
     "data": {
      "text/html": [
       "<div>\n",
       "<style scoped>\n",
       "    .dataframe tbody tr th:only-of-type {\n",
       "        vertical-align: middle;\n",
       "    }\n",
       "\n",
       "    .dataframe tbody tr th {\n",
       "        vertical-align: top;\n",
       "    }\n",
       "\n",
       "    .dataframe thead th {\n",
       "        text-align: right;\n",
       "    }\n",
       "</style>\n",
       "<table border=\"1\" class=\"dataframe\">\n",
       "  <thead>\n",
       "    <tr style=\"text-align: right;\">\n",
       "      <th></th>\n",
       "      <th>continent</th>\n",
       "      <th>location</th>\n",
       "      <th>date</th>\n",
       "      <th>total_cases</th>\n",
       "      <th>total_deaths</th>\n",
       "      <th>gdp_per_capita</th>\n",
       "      <th>human_development_index</th>\n",
       "      <th>month</th>\n",
       "      <th>total_deaths_to_total_cases</th>\n",
       "    </tr>\n",
       "  </thead>\n",
       "  <tbody>\n",
       "    <tr>\n",
       "      <th>0</th>\n",
       "      <td>Africa</td>\n",
       "      <td>Zimbabwe</td>\n",
       "      <td>2020-12-11</td>\n",
       "      <td>752269.0</td>\n",
       "      <td>20314.0</td>\n",
       "      <td>26382.287</td>\n",
       "      <td>0.797</td>\n",
       "      <td>12</td>\n",
       "      <td>0.027004</td>\n",
       "    </tr>\n",
       "    <tr>\n",
       "      <th>1</th>\n",
       "      <td>Asia</td>\n",
       "      <td>Yemen</td>\n",
       "      <td>2020-12-11</td>\n",
       "      <td>8874290.0</td>\n",
       "      <td>130519.0</td>\n",
       "      <td>116935.600</td>\n",
       "      <td>0.933</td>\n",
       "      <td>12</td>\n",
       "      <td>0.014708</td>\n",
       "    </tr>\n",
       "    <tr>\n",
       "      <th>2</th>\n",
       "      <td>Europe</td>\n",
       "      <td>Vatican</td>\n",
       "      <td>2020-12-11</td>\n",
       "      <td>1991233.0</td>\n",
       "      <td>52147.0</td>\n",
       "      <td>94277.965</td>\n",
       "      <td>0.953</td>\n",
       "      <td>12</td>\n",
       "      <td>0.026188</td>\n",
       "    </tr>\n",
       "    <tr>\n",
       "      <th>3</th>\n",
       "      <td>North America</td>\n",
       "      <td>United States Virgin Islands</td>\n",
       "      <td>2020-12-11</td>\n",
       "      <td>11205486.0</td>\n",
       "      <td>247220.0</td>\n",
       "      <td>54225.446</td>\n",
       "      <td>0.926</td>\n",
       "      <td>12</td>\n",
       "      <td>0.022062</td>\n",
       "    </tr>\n",
       "    <tr>\n",
       "      <th>4</th>\n",
       "      <td>Oceania</td>\n",
       "      <td>Wallis and Futuna</td>\n",
       "      <td>2020-12-11</td>\n",
       "      <td>27750.0</td>\n",
       "      <td>907.0</td>\n",
       "      <td>44648.710</td>\n",
       "      <td>0.939</td>\n",
       "      <td>12</td>\n",
       "      <td>0.032685</td>\n",
       "    </tr>\n",
       "  </tbody>\n",
       "</table>\n",
       "</div>"
      ],
      "text/plain": [
       "       continent                      location       date  total_cases  \\\n",
       "0         Africa                      Zimbabwe 2020-12-11     752269.0   \n",
       "1           Asia                         Yemen 2020-12-11    8874290.0   \n",
       "2         Europe                       Vatican 2020-12-11    1991233.0   \n",
       "3  North America  United States Virgin Islands 2020-12-11   11205486.0   \n",
       "4        Oceania             Wallis and Futuna 2020-12-11      27750.0   \n",
       "\n",
       "   total_deaths  gdp_per_capita  human_development_index  month  \\\n",
       "0       20314.0       26382.287                    0.797     12   \n",
       "1      130519.0      116935.600                    0.933     12   \n",
       "2       52147.0       94277.965                    0.953     12   \n",
       "3      247220.0       54225.446                    0.926     12   \n",
       "4         907.0       44648.710                    0.939     12   \n",
       "\n",
       "   total_deaths_to_total_cases  \n",
       "0                     0.027004  \n",
       "1                     0.014708  \n",
       "2                     0.026188  \n",
       "3                     0.022062  \n",
       "4                     0.032685  "
      ]
     },
     "execution_count": 27,
     "metadata": {},
     "output_type": "execute_result"
    }
   ],
   "source": [
    "df_groupby['total_deaths_to_total_cases'] = df_groupby['total_deaths'] / df_groupby['total_cases']\n",
    "\n",
    "print(\"DataFrame with the new feature 'total_deaths_to_total_cases':\")\n",
    "df_groupby.head()"
   ]
  },
  {
   "cell_type": "markdown",
   "id": "fb8f8d79",
   "metadata": {},
   "source": [
    "### 9. Data Visualization :"
   ]
  },
  {
   "cell_type": "code",
   "execution_count": 29,
   "id": "6292611c",
   "metadata": {},
   "outputs": [],
   "source": [
    "import seaborn as sns\n",
    "import matplotlib.pyplot as plt\n",
    "sns.set(style=\"whitegrid\")"
   ]
  },
  {
   "cell_type": "markdown",
   "id": "258ef768",
   "metadata": {},
   "source": [
    "### a. Perform Univariate analysis on 'gdp_per_capita' column by plotting histogram using seaborn dist plot."
   ]
  },
  {
   "cell_type": "code",
   "execution_count": 30,
   "id": "d4aebcb3",
   "metadata": {},
   "outputs": [
    {
     "data": {
      "image/png": "[encoded data removed]",
      "text/plain": [
       "<Figure size 1200x600 with 1 Axes>"
      ]
     },
     "metadata": {},
     "output_type": "display_data"
    }
   ],
   "source": [
    "plt.figure(figsize=(12, 6))\n",
    "sns.histplot(df_groupby['gdp_per_capita'], kde=True, color='blue')\n",
    "plt.title('Univariate Analysis of GDP per Capita')\n",
    "plt.xlabel('GDP per Capita')\n",
    "plt.ylabel('Frequency')\n",
    "plt.show()"
   ]
  },
  {
   "cell_type": "markdown",
   "id": "bf1f0379",
   "metadata": {},
   "source": [
    "### b. Plot a scatter plot of 'total_cases' & 'gdp_per_capita'"
   ]
  },
  {
   "cell_type": "code",
   "execution_count": 31,
   "id": "b9af36a5",
   "metadata": {},
   "outputs": [
    {
     "data": {
      "image/png": "[encoded data removed]",
      "text/plain": [
       "<Figure size 1200x600 with 1 Axes>"
      ]
     },
     "metadata": {},
     "output_type": "display_data"
    }
   ],
   "source": [
    "plt.figure(figsize=(12, 6))\n",
    "sns.scatterplot(x='total_cases', y='gdp_per_capita', data=df_groupby, color='green')\n",
    "plt.title('Scatter Plot of Total Cases vs GDP per Capita')\n",
    "plt.xlabel('Total Cases')\n",
    "plt.ylabel('GDP per Capita')\n",
    "plt.show()"
   ]
  },
  {
   "cell_type": "markdown",
   "id": "8cf256a5",
   "metadata": {},
   "source": [
    "### c. Plot Pairplot on df_groupby dataset."
   ]
  },
  {
   "cell_type": "code",
   "execution_count": 35,
   "id": "167b0b67",
   "metadata": {},
   "outputs": [
    {
     "data": {
      "text/plain": [
       "<Figure size 1500x1000 with 0 Axes>"
      ]
     },
     "metadata": {},
     "output_type": "display_data"
    },
    {
     "data": {
      "image/png": "[encoded data removed]",
      "text/plain": [
       "<Figure size 1500x1500 with 42 Axes>"
      ]
     },
     "metadata": {},
     "output_type": "display_data"
    }
   ],
   "source": [
    "plt.figure(figsize=(15, 10))\n",
    "sns.pairplot(df_groupby)\n",
    "plt.suptitle('Pairplot of df_groupby Dataset', y=1.02)\n",
    "plt.show()"
   ]
  },
  {
   "cell_type": "markdown",
   "id": "d864c5be",
   "metadata": {},
   "source": [
    "### d. Plot a bar plot of 'continent' column with 'total_cases'\n",
    "Tip : using kind='bar' in seaborn catplot"
   ]
  },
  {
   "cell_type": "code",
   "execution_count": 37,
   "id": "c6a71855",
   "metadata": {},
   "outputs": [
    {
     "data": {
      "text/plain": [
       "<Figure size 1200x600 with 0 Axes>"
      ]
     },
     "metadata": {},
     "output_type": "display_data"
    },
    {
     "data": {
      "image/png": "[encoded data removed]",
      "text/plain": [
       "<Figure size 500x500 with 1 Axes>"
      ]
     },
     "metadata": {},
     "output_type": "display_data"
    }
   ],
   "source": [
    "plt.figure(figsize=(12, 6))\n",
    "sns.catplot(x='continent', y='total_cases', data=df_groupby, kind='bar', palette='viridis')\n",
    "plt.title('Bar Plot of Total Cases by Continent')\n",
    "plt.xlabel('Continent')\n",
    "plt.ylabel('Total Cases')\n",
    "plt.xticks(rotation=45, ha='right')  # Rotate x-axis labels for better visibility\n",
    "plt.tight_layout()  # Adjust layout for better spacing\n",
    "plt.show()"
   ]
  },
  {
   "cell_type": "markdown",
   "id": "30a66cd4",
   "metadata": {},
   "source": [
    "### 10.Save the df_groupby dataframe in your local drive using pandas.to_csv function "
   ]
  },
  {
   "cell_type": "code",
   "execution_count": 38,
   "id": "ac383b28",
   "metadata": {},
   "outputs": [
    {
     "name": "stdout",
     "output_type": "stream",
     "text": [
      "df_groupby dataframe has been saved to 'df_groupby.csv' on your local drive.\n"
     ]
    }
   ],
   "source": [
    "df_groupby.to_csv('df_groupby.csv', index=False)\n",
    "\n",
    "print(\"df_groupby dataframe has been saved to 'df_groupby.csv' on your local drive.\")"
   ]
  }
 ],
 "metadata": {
  "kernelspec": {
   "display_name": "Python 3 (ipykernel)",
   "language": "python",
   "name": "python3"
  },
  "language_info": {
   "codemirror_mode": {
    "name": "ipython",
    "version": 3
   },
   "file_extension": ".py",
   "mimetype": "text/x-python",
   "name": "python",
   "nbconvert_exporter": "python",
   "pygments_lexer": "ipython3",
   "version": "3.10.9"
  }
 },
 "nbformat": 4,
 "nbformat_minor": 5
}
